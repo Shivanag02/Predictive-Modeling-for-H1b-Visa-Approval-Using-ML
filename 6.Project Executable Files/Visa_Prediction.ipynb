{
  "cells": [
    {
      "cell_type": "code",
      "execution_count": 101,
      "metadata": {
        "id": "AKZWHOCzfL_z"
      },
      "outputs": [],
      "source": [
        "import numpy as np\n",
        "import pandas as pd # data processing, CSV file 1/0 (e.g. pd.read_csv)\n",
        "import matplotlib as plt\n",
        "import matplotlib.pyplot as plt #Data Visualisation\n",
        "import seaborn as sns # Data Visualisation\n",
        "from collections import Counter as c #importing collections\n",
        "from matplotlib.pyplot import plot #importing matplotlib Llibrary\n",
        "from sklearn.linear_model import LogisticRegression\n",
        "from sklearn.metrics import accuracy_score, confusion_matrix"
      ]
    },
    {
      "cell_type": "code",
      "execution_count": 102,
      "metadata": {
        "colab": {
          "base_uri": "https://localhost:8080/",
          "height": 469
        },
        "id": "fUx9Z0Ys2dEC",
        "outputId": "d8c02ee5-a194-463a-8e03-9637d5e24b58"
      },
      "outputs": [
        {
          "data": {
            "text/html": [
              "<div>\n",
              "<style scoped>\n",
              "    .dataframe tbody tr th:only-of-type {\n",
              "        vertical-align: middle;\n",
              "    }\n",
              "\n",
              "    .dataframe tbody tr th {\n",
              "        vertical-align: top;\n",
              "    }\n",
              "\n",
              "    .dataframe thead th {\n",
              "        text-align: right;\n",
              "    }\n",
              "</style>\n",
              "<table border=\"1\" class=\"dataframe\">\n",
              "  <thead>\n",
              "    <tr style=\"text-align: right;\">\n",
              "      <th></th>\n",
              "      <th>Unnamed: 0</th>\n",
              "      <th>CASE_STATUS</th>\n",
              "      <th>EMPLOYER_NAME</th>\n",
              "      <th>SOC_NAME</th>\n",
              "      <th>JOB_TITLE</th>\n",
              "      <th>FULL_TIME_POSITION</th>\n",
              "      <th>PREVAILING_WAGE</th>\n",
              "      <th>YEAR</th>\n",
              "      <th>WORKSITE</th>\n",
              "      <th>lon</th>\n",
              "      <th>lat</th>\n",
              "    </tr>\n",
              "  </thead>\n",
              "  <tbody>\n",
              "    <tr>\n",
              "      <th>0</th>\n",
              "      <td>1</td>\n",
              "      <td>CERTIFIED-WITHDRAWN</td>\n",
              "      <td>UNIVERSITY OF MICHIGAN</td>\n",
              "      <td>BIOCHEMISTS AND BIOPHYSICISTS</td>\n",
              "      <td>POSTDOCTORAL RESEARCH FELLOW</td>\n",
              "      <td>N</td>\n",
              "      <td>36067.0</td>\n",
              "      <td>2016.0</td>\n",
              "      <td>ANN ARBOR, MICHIGAN</td>\n",
              "      <td>-83.743038</td>\n",
              "      <td>42.280826</td>\n",
              "    </tr>\n",
              "    <tr>\n",
              "      <th>1</th>\n",
              "      <td>2</td>\n",
              "      <td>CERTIFIED-WITHDRAWN</td>\n",
              "      <td>GOODMAN NETWORKS, INC.</td>\n",
              "      <td>CHIEF EXECUTIVES</td>\n",
              "      <td>CHIEF OPERATING OFFICER</td>\n",
              "      <td>Y</td>\n",
              "      <td>242674.0</td>\n",
              "      <td>2016.0</td>\n",
              "      <td>PLANO, TEXAS</td>\n",
              "      <td>-96.698886</td>\n",
              "      <td>33.019843</td>\n",
              "    </tr>\n",
              "    <tr>\n",
              "      <th>2</th>\n",
              "      <td>3</td>\n",
              "      <td>CERTIFIED-WITHDRAWN</td>\n",
              "      <td>PORTS AMERICA GROUP, INC.</td>\n",
              "      <td>CHIEF EXECUTIVES</td>\n",
              "      <td>CHIEF PROCESS OFFICER</td>\n",
              "      <td>Y</td>\n",
              "      <td>193066.0</td>\n",
              "      <td>2016.0</td>\n",
              "      <td>JERSEY CITY, NEW JERSEY</td>\n",
              "      <td>-74.077642</td>\n",
              "      <td>40.728158</td>\n",
              "    </tr>\n",
              "    <tr>\n",
              "      <th>3</th>\n",
              "      <td>4</td>\n",
              "      <td>CERTIFIED-WITHDRAWN</td>\n",
              "      <td>GATES CORPORATION, A WHOLLY-OWNED SUBSIDIARY O...</td>\n",
              "      <td>CHIEF EXECUTIVES</td>\n",
              "      <td>REGIONAL PRESIDEN, AMERICAS</td>\n",
              "      <td>Y</td>\n",
              "      <td>220314.0</td>\n",
              "      <td>2016.0</td>\n",
              "      <td>DENVER, COLORADO</td>\n",
              "      <td>-104.990251</td>\n",
              "      <td>39.739236</td>\n",
              "    </tr>\n",
              "    <tr>\n",
              "      <th>4</th>\n",
              "      <td>5</td>\n",
              "      <td>WITHDRAWN</td>\n",
              "      <td>PEABODY INVESTMENTS CORP.</td>\n",
              "      <td>CHIEF EXECUTIVES</td>\n",
              "      <td>PRESIDENT MONGOLIA AND INDIA</td>\n",
              "      <td>Y</td>\n",
              "      <td>157518.4</td>\n",
              "      <td>2016.0</td>\n",
              "      <td>ST. LOUIS, MISSOURI</td>\n",
              "      <td>-90.199404</td>\n",
              "      <td>38.627003</td>\n",
              "    </tr>\n",
              "  </tbody>\n",
              "</table>\n",
              "</div>"
            ],
            "text/plain": [
              "   Unnamed: 0          CASE_STATUS  \\\n",
              "0           1  CERTIFIED-WITHDRAWN   \n",
              "1           2  CERTIFIED-WITHDRAWN   \n",
              "2           3  CERTIFIED-WITHDRAWN   \n",
              "3           4  CERTIFIED-WITHDRAWN   \n",
              "4           5            WITHDRAWN   \n",
              "\n",
              "                                       EMPLOYER_NAME  \\\n",
              "0                             UNIVERSITY OF MICHIGAN   \n",
              "1                             GOODMAN NETWORKS, INC.   \n",
              "2                          PORTS AMERICA GROUP, INC.   \n",
              "3  GATES CORPORATION, A WHOLLY-OWNED SUBSIDIARY O...   \n",
              "4                          PEABODY INVESTMENTS CORP.   \n",
              "\n",
              "                        SOC_NAME                     JOB_TITLE  \\\n",
              "0  BIOCHEMISTS AND BIOPHYSICISTS  POSTDOCTORAL RESEARCH FELLOW   \n",
              "1               CHIEF EXECUTIVES       CHIEF OPERATING OFFICER   \n",
              "2               CHIEF EXECUTIVES         CHIEF PROCESS OFFICER   \n",
              "3               CHIEF EXECUTIVES   REGIONAL PRESIDEN, AMERICAS   \n",
              "4               CHIEF EXECUTIVES  PRESIDENT MONGOLIA AND INDIA   \n",
              "\n",
              "  FULL_TIME_POSITION  PREVAILING_WAGE    YEAR                 WORKSITE  \\\n",
              "0                  N          36067.0  2016.0      ANN ARBOR, MICHIGAN   \n",
              "1                  Y         242674.0  2016.0             PLANO, TEXAS   \n",
              "2                  Y         193066.0  2016.0  JERSEY CITY, NEW JERSEY   \n",
              "3                  Y         220314.0  2016.0         DENVER, COLORADO   \n",
              "4                  Y         157518.4  2016.0      ST. LOUIS, MISSOURI   \n",
              "\n",
              "          lon        lat  \n",
              "0  -83.743038  42.280826  \n",
              "1  -96.698886  33.019843  \n",
              "2  -74.077642  40.728158  \n",
              "3 -104.990251  39.739236  \n",
              "4  -90.199404  38.627003  "
            ]
          },
          "execution_count": 102,
          "metadata": {},
          "output_type": "execute_result"
        }
      ],
      "source": [
        "df = pd.read_csv(\"h1b_kaggle.csv\")\n",
        "df.shape\n",
        "df.head()"
      ]
    },
    {
      "cell_type": "code",
      "execution_count": 103,
      "metadata": {
        "colab": {
          "base_uri": "https://localhost:8080/"
        },
        "id": "RT2bO4ZSfwF1",
        "outputId": "cce333c4-5299-4322-a412-87152b02b443"
      },
      "outputs": [
        {
          "name": "stdout",
          "output_type": "stream",
          "text": [
            "<class 'pandas.core.frame.DataFrame'>\n",
            "RangeIndex: 3002458 entries, 0 to 3002457\n",
            "Data columns (total 11 columns):\n",
            " #   Column              Dtype  \n",
            "---  ------              -----  \n",
            " 0   Unnamed: 0          int64  \n",
            " 1   CASE_STATUS         object \n",
            " 2   EMPLOYER_NAME       object \n",
            " 3   SOC_NAME            object \n",
            " 4   JOB_TITLE           object \n",
            " 5   FULL_TIME_POSITION  object \n",
            " 6   PREVAILING_WAGE     float64\n",
            " 7   YEAR                float64\n",
            " 8   WORKSITE            object \n",
            " 9   lon                 float64\n",
            " 10  lat                 float64\n",
            "dtypes: float64(4), int64(1), object(6)\n",
            "memory usage: 252.0+ MB\n"
          ]
        }
      ],
      "source": [
        "df.info()"
      ]
    },
    {
      "cell_type": "code",
      "execution_count": 104,
      "metadata": {
        "colab": {
          "base_uri": "https://localhost:8080/"
        },
        "id": "-wUJg4R7f9WA",
        "outputId": "94efd6ce-dd22-4da1-baf1-ab728c1253a9"
      },
      "outputs": [
        {
          "data": {
            "text/plain": [
              "CASE_STATUS\n",
              "CERTIFIED                                             2615623\n",
              "CERTIFIED-WITHDRAWN                                    202659\n",
              "DENIED                                                  94346\n",
              "WITHDRAWN                                               89799\n",
              "PENDING QUALITY AND COMPLIANCE REVIEW - UNASSIGNED         15\n",
              "REJECTED                                                    2\n",
              "INVALIDATED                                                 1\n",
              "Name: count, dtype: int64"
            ]
          },
          "execution_count": 104,
          "metadata": {},
          "output_type": "execute_result"
        }
      ],
      "source": [
        "df.CASE_STATUS.value_counts()"
      ]
    },
    {
      "cell_type": "code",
      "execution_count": 105,
      "metadata": {
        "colab": {
          "base_uri": "https://localhost:8080/"
        },
        "id": "UDb1grG61gzm",
        "outputId": "1440707c-6980-40a3-fede-edea5a9fe5f1"
      },
      "outputs": [
        {
          "data": {
            "text/plain": [
              "Unnamed: 0                 0\n",
              "CASE_STATUS               13\n",
              "EMPLOYER_NAME             59\n",
              "SOC_NAME               17734\n",
              "JOB_TITLE                 43\n",
              "FULL_TIME_POSITION        15\n",
              "PREVAILING_WAGE           85\n",
              "YEAR                      13\n",
              "WORKSITE                   0\n",
              "lon                   107242\n",
              "lat                   107242\n",
              "dtype: int64"
            ]
          },
          "execution_count": 105,
          "metadata": {},
          "output_type": "execute_result"
        }
      ],
      "source": [
        "df.isnull().sum()"
      ]
    },
    {
      "cell_type": "code",
      "execution_count": 106,
      "metadata": {
        "colab": {
          "base_uri": "https://localhost:8080/",
          "height": 791
        },
        "id": "heTUrJ0OgS7Q",
        "outputId": "51fa2bf6-2a58-4cdc-f93c-97f37c2c8e7c"
      },
      "outputs": [
        {
          "data": {
            "text/plain": [
              "<function matplotlib.pyplot.show(close=None, block=None)>"
            ]
          },
          "execution_count": 106,
          "metadata": {},
          "output_type": "execute_result"
        },
        {
          "data": {
            "image/png": "[encoded data removed]",
            "text/plain": [
              "<Figure size 1000x700 with 1 Axes>"
            ]
          },
          "metadata": {},
          "output_type": "display_data"
        }
      ],
      "source": [
        "plt.figure(figsize=(10,7))\n",
        "df.CASE_STATUS.value_counts().plot(kind='barh')\n",
        "df.sort_values('CASE_STATUS')\n",
        "plt.title(\"NUMBER OF APPLICATIONS\")\n",
        "plt.show"
      ]
    },
    {
      "cell_type": "code",
      "execution_count": 107,
      "metadata": {
        "colab": {
          "base_uri": "https://localhost:8080/",
          "height": 650
        },
        "id": "PiJ1S5BegvvA",
        "outputId": "b986ca56-ea2f-45c7-e461-1ee5fa6941c6"
      },
      "outputs": [
        {
          "data": {
            "image/png": "[encoded data removed]",
            "text/plain": [
              "<Figure size 1200x700 with 1 Axes>"
            ]
          },
          "metadata": {},
          "output_type": "display_data"
        }
      ],
      "source": [
        "plt.figure(figsize=(12,7))\n",
        "sns.set(style=\"whitegrid\")\n",
        "g = sns.countplot(x = 'FULL_TIME_POSITION', data = df)\n",
        "plt.title(\"NUMBER OF APPLICATIONS MADE FOR THE FULL TIME POSITION\")\n",
        "plt.ylabel(\"NUMBER OF PETITIONS MADE\")\n",
        "plt.show()"
      ]
    },
    {
      "cell_type": "code",
      "execution_count": 108,
      "metadata": {
        "colab": {
          "base_uri": "https://localhost:8080/"
        },
        "id": "JyQu6SZDa2st",
        "outputId": "720aba3f-df7e-4d2b-e3ea-40b0f9041ea3"
      },
      "outputs": [
        {
          "name": "stdout",
          "output_type": "stream",
          "text": [
            "0               DELOITTE CONSULTING LLP\n",
            "1               DELOITTE CONSULTING LLP\n",
            "2               DELOITTE CONSULTING LLP\n",
            "3               DELOITTE CONSULTING LLP\n",
            "4               DELOITTE CONSULTING LLP\n",
            "5               DELOITTE CONSULTING LLP\n",
            "6             IBM INDIA PRIVATE LIMITED\n",
            "7             IBM INDIA PRIVATE LIMITED\n",
            "8             IBM INDIA PRIVATE LIMITED\n",
            "9             IBM INDIA PRIVATE LIMITED\n",
            "10            IBM INDIA PRIVATE LIMITED\n",
            "11            IBM INDIA PRIVATE LIMITED\n",
            "12                      INFOSYS LIMITED\n",
            "13                      INFOSYS LIMITED\n",
            "14                      INFOSYS LIMITED\n",
            "15                      INFOSYS LIMITED\n",
            "16                      INFOSYS LIMITED\n",
            "17                      INFOSYS LIMITED\n",
            "18    TATA CONSULTANCY SERVICES LIMITED\n",
            "19    TATA CONSULTANCY SERVICES LIMITED\n",
            "20    TATA CONSULTANCY SERVICES LIMITED\n",
            "21    TATA CONSULTANCY SERVICES LIMITED\n",
            "22    TATA CONSULTANCY SERVICES LIMITED\n",
            "23    TATA CONSULTANCY SERVICES LIMITED\n",
            "24                        WIPRO LIMITED\n",
            "25                        WIPRO LIMITED\n",
            "26                        WIPRO LIMITED\n",
            "27                        WIPRO LIMITED\n",
            "28                        WIPRO LIMITED\n",
            "29                        WIPRO LIMITED\n",
            "Name: EMPLOYER_NAME, dtype: object\n"
          ]
        }
      ],
      "source": [
        "top_emp = df['EMPLOYER_NAME'].value_counts().nlargest(5).index.tolist()\n",
        "\n",
        "df = df [df['PREVAILING_WAGE'] <= 500000]\n",
        "by_emp_year = df [['EMPLOYER_NAME', 'YEAR', 'PREVAILING_WAGE']] [df['EMPLOYER_NAME'].isin(top_emp)]\n",
        "# Group by the columns and reset the index to bring the grouping columns back as regular columns.\n",
        "by_emp_year = by_emp_year.groupby(['EMPLOYER_NAME', 'YEAR']).mean().reset_index()\n",
        "print(by_emp_year['EMPLOYER_NAME'])"
      ]
    },
    {
      "cell_type": "code",
      "execution_count": 109,
      "metadata": {
        "colab": {
          "base_uri": "https://localhost:8080/"
        },
        "id": "w1geq4Fs59kG",
        "outputId": "18e2fe9a-7432-4eb7-b83a-2bac003a853d"
      },
      "outputs": [
        {
          "data": {
            "text/plain": [
              "Unnamed: 0                 0\n",
              "CASE_STATUS                0\n",
              "EMPLOYER_NAME             42\n",
              "SOC_NAME               17698\n",
              "JOB_TITLE                 26\n",
              "FULL_TIME_POSITION         0\n",
              "PREVAILING_WAGE            0\n",
              "YEAR                       0\n",
              "WORKSITE                   0\n",
              "lon                   107089\n",
              "lat                   107089\n",
              "dtype: int64"
            ]
          },
          "execution_count": 109,
          "metadata": {},
          "output_type": "execute_result"
        }
      ],
      "source": [
        "df.isnull().sum()"
      ]
    },
    {
      "cell_type": "code",
      "execution_count": 110,
      "metadata": {
        "id": "hlZE0ZBO6JLN"
      },
      "outputs": [],
      "source": [
        "df['SOC_NAME'] = df['SOC_NAME'].fillna(df['SOC_NAME'].mode()[0])"
      ]
    },
    {
      "cell_type": "code",
      "execution_count": 111,
      "metadata": {
        "id": "ImOZKyfn7Nfv"
      },
      "outputs": [],
      "source": [
        "df['CASE_STATUS'] = df['CASE_STATUS'].map({'CERTIFIED':0, 'CERTIFIED-WITHDRAWN': 1, 'DENIED': 2, 'WITHDRAWN': 3, 'PENDING QUALITY AND COMPLIANCE REVIEW UNASSIGNED' : 4,\n",
        "'REJECTED': 5, 'INVALIDATED': 6})"
      ]
    },
    {
      "cell_type": "code",
      "execution_count": 112,
      "metadata": {
        "colab": {
          "base_uri": "https://localhost:8080/",
          "height": 469
        },
        "id": "ZrjSRwsR_25U",
        "outputId": "618e1f64-2a56-45c9-c6b6-fcfbd7139928"
      },
      "outputs": [
        {
          "data": {
            "text/html": [
              "<div>\n",
              "<style scoped>\n",
              "    .dataframe tbody tr th:only-of-type {\n",
              "        vertical-align: middle;\n",
              "    }\n",
              "\n",
              "    .dataframe tbody tr th {\n",
              "        vertical-align: top;\n",
              "    }\n",
              "\n",
              "    .dataframe thead th {\n",
              "        text-align: right;\n",
              "    }\n",
              "</style>\n",
              "<table border=\"1\" class=\"dataframe\">\n",
              "  <thead>\n",
              "    <tr style=\"text-align: right;\">\n",
              "      <th></th>\n",
              "      <th>Unnamed: 0</th>\n",
              "      <th>CASE_STATUS</th>\n",
              "      <th>EMPLOYER_NAME</th>\n",
              "      <th>SOC_NAME</th>\n",
              "      <th>JOB_TITLE</th>\n",
              "      <th>FULL_TIME_POSITION</th>\n",
              "      <th>PREVAILING_WAGE</th>\n",
              "      <th>YEAR</th>\n",
              "      <th>WORKSITE</th>\n",
              "      <th>lon</th>\n",
              "      <th>lat</th>\n",
              "    </tr>\n",
              "  </thead>\n",
              "  <tbody>\n",
              "    <tr>\n",
              "      <th>0</th>\n",
              "      <td>1</td>\n",
              "      <td>1.0</td>\n",
              "      <td>UNIVERSITY OF MICHIGAN</td>\n",
              "      <td>BIOCHEMISTS AND BIOPHYSICISTS</td>\n",
              "      <td>POSTDOCTORAL RESEARCH FELLOW</td>\n",
              "      <td>0</td>\n",
              "      <td>36067.0</td>\n",
              "      <td>2016.0</td>\n",
              "      <td>ANN ARBOR, MICHIGAN</td>\n",
              "      <td>-83.743038</td>\n",
              "      <td>42.280826</td>\n",
              "    </tr>\n",
              "    <tr>\n",
              "      <th>1</th>\n",
              "      <td>2</td>\n",
              "      <td>1.0</td>\n",
              "      <td>GOODMAN NETWORKS, INC.</td>\n",
              "      <td>CHIEF EXECUTIVES</td>\n",
              "      <td>CHIEF OPERATING OFFICER</td>\n",
              "      <td>1</td>\n",
              "      <td>242674.0</td>\n",
              "      <td>2016.0</td>\n",
              "      <td>PLANO, TEXAS</td>\n",
              "      <td>-96.698886</td>\n",
              "      <td>33.019843</td>\n",
              "    </tr>\n",
              "    <tr>\n",
              "      <th>2</th>\n",
              "      <td>3</td>\n",
              "      <td>1.0</td>\n",
              "      <td>PORTS AMERICA GROUP, INC.</td>\n",
              "      <td>CHIEF EXECUTIVES</td>\n",
              "      <td>CHIEF PROCESS OFFICER</td>\n",
              "      <td>1</td>\n",
              "      <td>193066.0</td>\n",
              "      <td>2016.0</td>\n",
              "      <td>JERSEY CITY, NEW JERSEY</td>\n",
              "      <td>-74.077642</td>\n",
              "      <td>40.728158</td>\n",
              "    </tr>\n",
              "    <tr>\n",
              "      <th>3</th>\n",
              "      <td>4</td>\n",
              "      <td>1.0</td>\n",
              "      <td>GATES CORPORATION, A WHOLLY-OWNED SUBSIDIARY O...</td>\n",
              "      <td>CHIEF EXECUTIVES</td>\n",
              "      <td>REGIONAL PRESIDEN, AMERICAS</td>\n",
              "      <td>1</td>\n",
              "      <td>220314.0</td>\n",
              "      <td>2016.0</td>\n",
              "      <td>DENVER, COLORADO</td>\n",
              "      <td>-104.990251</td>\n",
              "      <td>39.739236</td>\n",
              "    </tr>\n",
              "    <tr>\n",
              "      <th>4</th>\n",
              "      <td>5</td>\n",
              "      <td>3.0</td>\n",
              "      <td>PEABODY INVESTMENTS CORP.</td>\n",
              "      <td>CHIEF EXECUTIVES</td>\n",
              "      <td>PRESIDENT MONGOLIA AND INDIA</td>\n",
              "      <td>1</td>\n",
              "      <td>157518.4</td>\n",
              "      <td>2016.0</td>\n",
              "      <td>ST. LOUIS, MISSOURI</td>\n",
              "      <td>-90.199404</td>\n",
              "      <td>38.627003</td>\n",
              "    </tr>\n",
              "  </tbody>\n",
              "</table>\n",
              "</div>"
            ],
            "text/plain": [
              "   Unnamed: 0  CASE_STATUS                                      EMPLOYER_NAME  \\\n",
              "0           1          1.0                             UNIVERSITY OF MICHIGAN   \n",
              "1           2          1.0                             GOODMAN NETWORKS, INC.   \n",
              "2           3          1.0                          PORTS AMERICA GROUP, INC.   \n",
              "3           4          1.0  GATES CORPORATION, A WHOLLY-OWNED SUBSIDIARY O...   \n",
              "4           5          3.0                          PEABODY INVESTMENTS CORP.   \n",
              "\n",
              "                        SOC_NAME                     JOB_TITLE  \\\n",
              "0  BIOCHEMISTS AND BIOPHYSICISTS  POSTDOCTORAL RESEARCH FELLOW   \n",
              "1               CHIEF EXECUTIVES       CHIEF OPERATING OFFICER   \n",
              "2               CHIEF EXECUTIVES         CHIEF PROCESS OFFICER   \n",
              "3               CHIEF EXECUTIVES   REGIONAL PRESIDEN, AMERICAS   \n",
              "4               CHIEF EXECUTIVES  PRESIDENT MONGOLIA AND INDIA   \n",
              "\n",
              "   FULL_TIME_POSITION  PREVAILING_WAGE    YEAR                 WORKSITE  \\\n",
              "0                   0          36067.0  2016.0      ANN ARBOR, MICHIGAN   \n",
              "1                   1         242674.0  2016.0             PLANO, TEXAS   \n",
              "2                   1         193066.0  2016.0  JERSEY CITY, NEW JERSEY   \n",
              "3                   1         220314.0  2016.0         DENVER, COLORADO   \n",
              "4                   1         157518.4  2016.0      ST. LOUIS, MISSOURI   \n",
              "\n",
              "          lon        lat  \n",
              "0  -83.743038  42.280826  \n",
              "1  -96.698886  33.019843  \n",
              "2  -74.077642  40.728158  \n",
              "3 -104.990251  39.739236  \n",
              "4  -90.199404  38.627003  "
            ]
          },
          "execution_count": 112,
          "metadata": {},
          "output_type": "execute_result"
        }
      ],
      "source": [
        "df['FULL_TIME_POSITION'] = df ['FULL_TIME_POSITION'].map({'N' : 0, 'Y': 1})\n",
        "df.head()"
      ]
    },
    {
      "cell_type": "code",
      "execution_count": 113,
      "metadata": {
        "colab": {
          "base_uri": "https://localhost:8080/"
        },
        "id": "KzW0RdBSOfqX",
        "outputId": "793a1ff8-b846-43a6-e3e0-f3bfc8a24b9e"
      },
      "outputs": [
        {
          "name": "stderr",
          "output_type": "stream",
          "text": [
            "C:\\Users\\sushm\\AppData\\Local\\Temp\\ipykernel_25128\\2877348365.py:3: FutureWarning: ChainedAssignmentError: behaviour will change in pandas 3.0!\n",
            "You are setting values through chained assignment. Currently this works in certain cases, but when using Copy-on-Write (which will become the default behaviour in pandas 3.0) this will never work to update the original DataFrame or Series, because the intermediate object on which we are setting values will behave as a copy.\n",
            "A typical example is when you are setting values in a column of a DataFrame, like:\n",
            "\n",
            "df[\"col\"][row_indexer] = value\n",
            "\n",
            "Use `df.loc[row_indexer, \"col\"] = values` instead, to perform the assignment in a single step and ensure this keeps updating the original `df`.\n",
            "\n",
            "See the caveats in the documentation: https://pandas.pydata.org/pandas-docs/stable/user_guide/indexing.html#returning-a-view-versus-a-copy\n",
            "\n",
            "  df['SOC_NAME1'] [df['SOC_NAME'].str.contains('computer', 'software')] = 'it'\n",
            "C:\\Users\\sushm\\AppData\\Local\\Temp\\ipykernel_25128\\2877348365.py:3: SettingWithCopyWarning: \n",
            "A value is trying to be set on a copy of a slice from a DataFrame\n",
            "\n",
            "See the caveats in the documentation: https://pandas.pydata.org/pandas-docs/stable/user_guide/indexing.html#returning-a-view-versus-a-copy\n",
            "  df['SOC_NAME1'] [df['SOC_NAME'].str.contains('computer', 'software')] = 'it'\n",
            "C:\\Users\\sushm\\AppData\\Local\\Temp\\ipykernel_25128\\2877348365.py:4: FutureWarning: ChainedAssignmentError: behaviour will change in pandas 3.0!\n",
            "You are setting values through chained assignment. Currently this works in certain cases, but when using Copy-on-Write (which will become the default behaviour in pandas 3.0) this will never work to update the original DataFrame or Series, because the intermediate object on which we are setting values will behave as a copy.\n",
            "A typical example is when you are setting values in a column of a DataFrame, like:\n",
            "\n",
            "df[\"col\"][row_indexer] = value\n",
            "\n",
            "Use `df.loc[row_indexer, \"col\"] = values` instead, to perform the assignment in a single step and ensure this keeps updating the original `df`.\n",
            "\n",
            "See the caveats in the documentation: https://pandas.pydata.org/pandas-docs/stable/user_guide/indexing.html#returning-a-view-versus-a-copy\n",
            "\n",
            "  df['SOC_NAME1'] [df['SOC_NAME'].str.contains('chief', 'management')] = 'manager'\n",
            "C:\\Users\\sushm\\AppData\\Local\\Temp\\ipykernel_25128\\2877348365.py:4: SettingWithCopyWarning: \n",
            "A value is trying to be set on a copy of a slice from a DataFrame\n",
            "\n",
            "See the caveats in the documentation: https://pandas.pydata.org/pandas-docs/stable/user_guide/indexing.html#returning-a-view-versus-a-copy\n",
            "  df['SOC_NAME1'] [df['SOC_NAME'].str.contains('chief', 'management')] = 'manager'\n",
            "C:\\Users\\sushm\\AppData\\Local\\Temp\\ipykernel_25128\\2877348365.py:5: FutureWarning: ChainedAssignmentError: behaviour will change in pandas 3.0!\n",
            "You are setting values through chained assignment. Currently this works in certain cases, but when using Copy-on-Write (which will become the default behaviour in pandas 3.0) this will never work to update the original DataFrame or Series, because the intermediate object on which we are setting values will behave as a copy.\n",
            "A typical example is when you are setting values in a column of a DataFrame, like:\n",
            "\n",
            "df[\"col\"][row_indexer] = value\n",
            "\n",
            "Use `df.loc[row_indexer, \"col\"] = values` instead, to perform the assignment in a single step and ensure this keeps updating the original `df`.\n",
            "\n",
            "See the caveats in the documentation: https://pandas.pydata.org/pandas-docs/stable/user_guide/indexing.html#returning-a-view-versus-a-copy\n",
            "\n",
            "  df['SOC_NAME1'] [df['SOC_NAME'].str.contains('mechanical')] = 'mechanical'\n",
            "C:\\Users\\sushm\\AppData\\Local\\Temp\\ipykernel_25128\\2877348365.py:5: SettingWithCopyWarning: \n",
            "A value is trying to be set on a copy of a slice from a DataFrame\n",
            "\n",
            "See the caveats in the documentation: https://pandas.pydata.org/pandas-docs/stable/user_guide/indexing.html#returning-a-view-versus-a-copy\n",
            "  df['SOC_NAME1'] [df['SOC_NAME'].str.contains('mechanical')] = 'mechanical'\n",
            "C:\\Users\\sushm\\AppData\\Local\\Temp\\ipykernel_25128\\2877348365.py:6: FutureWarning: ChainedAssignmentError: behaviour will change in pandas 3.0!\n",
            "You are setting values through chained assignment. Currently this works in certain cases, but when using Copy-on-Write (which will become the default behaviour in pandas 3.0) this will never work to update the original DataFrame or Series, because the intermediate object on which we are setting values will behave as a copy.\n",
            "A typical example is when you are setting values in a column of a DataFrame, like:\n",
            "\n",
            "df[\"col\"][row_indexer] = value\n",
            "\n",
            "Use `df.loc[row_indexer, \"col\"] = values` instead, to perform the assignment in a single step and ensure this keeps updating the original `df`.\n",
            "\n",
            "See the caveats in the documentation: https://pandas.pydata.org/pandas-docs/stable/user_guide/indexing.html#returning-a-view-versus-a-copy\n",
            "\n",
            "  df['SOC_NAME1'] [df['SOC_NAME'].str.contains('database')] = 'database'\n",
            "C:\\Users\\sushm\\AppData\\Local\\Temp\\ipykernel_25128\\2877348365.py:6: SettingWithCopyWarning: \n",
            "A value is trying to be set on a copy of a slice from a DataFrame\n",
            "\n",
            "See the caveats in the documentation: https://pandas.pydata.org/pandas-docs/stable/user_guide/indexing.html#returning-a-view-versus-a-copy\n",
            "  df['SOC_NAME1'] [df['SOC_NAME'].str.contains('database')] = 'database'\n",
            "C:\\Users\\sushm\\AppData\\Local\\Temp\\ipykernel_25128\\2877348365.py:7: FutureWarning: ChainedAssignmentError: behaviour will change in pandas 3.0!\n",
            "You are setting values through chained assignment. Currently this works in certain cases, but when using Copy-on-Write (which will become the default behaviour in pandas 3.0) this will never work to update the original DataFrame or Series, because the intermediate object on which we are setting values will behave as a copy.\n",
            "A typical example is when you are setting values in a column of a DataFrame, like:\n",
            "\n",
            "df[\"col\"][row_indexer] = value\n",
            "\n",
            "Use `df.loc[row_indexer, \"col\"] = values` instead, to perform the assignment in a single step and ensure this keeps updating the original `df`.\n",
            "\n",
            "See the caveats in the documentation: https://pandas.pydata.org/pandas-docs/stable/user_guide/indexing.html#returning-a-view-versus-a-copy\n",
            "\n",
            "  df['SOC_NAME1'][df['SOC_NAME'].str.contains('sales', 'market')] = 'scm'\n",
            "C:\\Users\\sushm\\AppData\\Local\\Temp\\ipykernel_25128\\2877348365.py:7: SettingWithCopyWarning: \n",
            "A value is trying to be set on a copy of a slice from a DataFrame\n",
            "\n",
            "See the caveats in the documentation: https://pandas.pydata.org/pandas-docs/stable/user_guide/indexing.html#returning-a-view-versus-a-copy\n",
            "  df['SOC_NAME1'][df['SOC_NAME'].str.contains('sales', 'market')] = 'scm'\n",
            "C:\\Users\\sushm\\AppData\\Local\\Temp\\ipykernel_25128\\2877348365.py:8: FutureWarning: ChainedAssignmentError: behaviour will change in pandas 3.0!\n",
            "You are setting values through chained assignment. Currently this works in certain cases, but when using Copy-on-Write (which will become the default behaviour in pandas 3.0) this will never work to update the original DataFrame or Series, because the intermediate object on which we are setting values will behave as a copy.\n",
            "A typical example is when you are setting values in a column of a DataFrame, like:\n",
            "\n",
            "df[\"col\"][row_indexer] = value\n",
            "\n",
            "Use `df.loc[row_indexer, \"col\"] = values` instead, to perform the assignment in a single step and ensure this keeps updating the original `df`.\n",
            "\n",
            "See the caveats in the documentation: https://pandas.pydata.org/pandas-docs/stable/user_guide/indexing.html#returning-a-view-versus-a-copy\n",
            "\n",
            "  df['SOC_NAME1'] [df['SOC_NAME'].str.contains('financial')] = 'finance'\n",
            "C:\\Users\\sushm\\AppData\\Local\\Temp\\ipykernel_25128\\2877348365.py:8: SettingWithCopyWarning: \n",
            "A value is trying to be set on a copy of a slice from a DataFrame\n",
            "\n",
            "See the caveats in the documentation: https://pandas.pydata.org/pandas-docs/stable/user_guide/indexing.html#returning-a-view-versus-a-copy\n",
            "  df['SOC_NAME1'] [df['SOC_NAME'].str.contains('financial')] = 'finance'\n",
            "C:\\Users\\sushm\\AppData\\Local\\Temp\\ipykernel_25128\\2877348365.py:9: FutureWarning: ChainedAssignmentError: behaviour will change in pandas 3.0!\n",
            "You are setting values through chained assignment. Currently this works in certain cases, but when using Copy-on-Write (which will become the default behaviour in pandas 3.0) this will never work to update the original DataFrame or Series, because the intermediate object on which we are setting values will behave as a copy.\n",
            "A typical example is when you are setting values in a column of a DataFrame, like:\n",
            "\n",
            "df[\"col\"][row_indexer] = value\n",
            "\n",
            "Use `df.loc[row_indexer, \"col\"] = values` instead, to perform the assignment in a single step and ensure this keeps updating the original `df`.\n",
            "\n",
            "See the caveats in the documentation: https://pandas.pydata.org/pandas-docs/stable/user_guide/indexing.html#returning-a-view-versus-a-copy\n",
            "\n",
            "  df['SOC_NAME1'] [df['SOC_NAME'].str.contains('public', 'fundraising')] = 'pr'\n",
            "C:\\Users\\sushm\\AppData\\Local\\Temp\\ipykernel_25128\\2877348365.py:9: SettingWithCopyWarning: \n",
            "A value is trying to be set on a copy of a slice from a DataFrame\n",
            "\n",
            "See the caveats in the documentation: https://pandas.pydata.org/pandas-docs/stable/user_guide/indexing.html#returning-a-view-versus-a-copy\n",
            "  df['SOC_NAME1'] [df['SOC_NAME'].str.contains('public', 'fundraising')] = 'pr'\n",
            "C:\\Users\\sushm\\AppData\\Local\\Temp\\ipykernel_25128\\2877348365.py:10: FutureWarning: ChainedAssignmentError: behaviour will change in pandas 3.0!\n",
            "You are setting values through chained assignment. Currently this works in certain cases, but when using Copy-on-Write (which will become the default behaviour in pandas 3.0) this will never work to update the original DataFrame or Series, because the intermediate object on which we are setting values will behave as a copy.\n",
            "A typical example is when you are setting values in a column of a DataFrame, like:\n",
            "\n",
            "df[\"col\"][row_indexer] = value\n",
            "\n",
            "Use `df.loc[row_indexer, \"col\"] = values` instead, to perform the assignment in a single step and ensure this keeps updating the original `df`.\n",
            "\n",
            "See the caveats in the documentation: https://pandas.pydata.org/pandas-docs/stable/user_guide/indexing.html#returning-a-view-versus-a-copy\n",
            "\n",
            "  df['SOC_NAME1'] [df['SOC_NAME'].str.contains('education', 'law')] = 'administrative'\n",
            "C:\\Users\\sushm\\AppData\\Local\\Temp\\ipykernel_25128\\2877348365.py:10: SettingWithCopyWarning: \n",
            "A value is trying to be set on a copy of a slice from a DataFrame\n",
            "\n",
            "See the caveats in the documentation: https://pandas.pydata.org/pandas-docs/stable/user_guide/indexing.html#returning-a-view-versus-a-copy\n",
            "  df['SOC_NAME1'] [df['SOC_NAME'].str.contains('education', 'law')] = 'administrative'\n",
            "C:\\Users\\sushm\\AppData\\Local\\Temp\\ipykernel_25128\\2877348365.py:11: FutureWarning: ChainedAssignmentError: behaviour will change in pandas 3.0!\n",
            "You are setting values through chained assignment. Currently this works in certain cases, but when using Copy-on-Write (which will become the default behaviour in pandas 3.0) this will never work to update the original DataFrame or Series, because the intermediate object on which we are setting values will behave as a copy.\n",
            "A typical example is when you are setting values in a column of a DataFrame, like:\n",
            "\n",
            "df[\"col\"][row_indexer] = value\n",
            "\n",
            "Use `df.loc[row_indexer, \"col\"] = values` instead, to perform the assignment in a single step and ensure this keeps updating the original `df`.\n",
            "\n",
            "See the caveats in the documentation: https://pandas.pydata.org/pandas-docs/stable/user_guide/indexing.html#returning-a-view-versus-a-copy\n",
            "\n",
            "  df['SOC_NAME1'][df['SOC_NAME'].str.contains('auditors', 'compliance')] = 'audit'\n",
            "C:\\Users\\sushm\\AppData\\Local\\Temp\\ipykernel_25128\\2877348365.py:11: SettingWithCopyWarning: \n",
            "A value is trying to be set on a copy of a slice from a DataFrame\n",
            "\n",
            "See the caveats in the documentation: https://pandas.pydata.org/pandas-docs/stable/user_guide/indexing.html#returning-a-view-versus-a-copy\n",
            "  df['SOC_NAME1'][df['SOC_NAME'].str.contains('auditors', 'compliance')] = 'audit'\n",
            "C:\\Users\\sushm\\AppData\\Local\\Temp\\ipykernel_25128\\2877348365.py:12: FutureWarning: ChainedAssignmentError: behaviour will change in pandas 3.0!\n",
            "You are setting values through chained assignment. Currently this works in certain cases, but when using Copy-on-Write (which will become the default behaviour in pandas 3.0) this will never work to update the original DataFrame or Series, because the intermediate object on which we are setting values will behave as a copy.\n",
            "A typical example is when you are setting values in a column of a DataFrame, like:\n",
            "\n",
            "df[\"col\"][row_indexer] = value\n",
            "\n",
            "Use `df.loc[row_indexer, \"col\"] = values` instead, to perform the assignment in a single step and ensure this keeps updating the original `df`.\n",
            "\n",
            "See the caveats in the documentation: https://pandas.pydata.org/pandas-docs/stable/user_guide/indexing.html#returning-a-view-versus-a-copy\n",
            "\n",
            "  df['SOC_NAME1'] [df['SOC_NAME'].str.contains('distribution', 'logistics')] = 'scm'\n",
            "C:\\Users\\sushm\\AppData\\Local\\Temp\\ipykernel_25128\\2877348365.py:12: SettingWithCopyWarning: \n",
            "A value is trying to be set on a copy of a slice from a DataFrame\n",
            "\n",
            "See the caveats in the documentation: https://pandas.pydata.org/pandas-docs/stable/user_guide/indexing.html#returning-a-view-versus-a-copy\n",
            "  df['SOC_NAME1'] [df['SOC_NAME'].str.contains('distribution', 'logistics')] = 'scm'\n",
            "C:\\Users\\sushm\\AppData\\Local\\Temp\\ipykernel_25128\\2877348365.py:13: FutureWarning: ChainedAssignmentError: behaviour will change in pandas 3.0!\n",
            "You are setting values through chained assignment. Currently this works in certain cases, but when using Copy-on-Write (which will become the default behaviour in pandas 3.0) this will never work to update the original DataFrame or Series, because the intermediate object on which we are setting values will behave as a copy.\n",
            "A typical example is when you are setting values in a column of a DataFrame, like:\n",
            "\n",
            "df[\"col\"][row_indexer] = value\n",
            "\n",
            "Use `df.loc[row_indexer, \"col\"] = values` instead, to perform the assignment in a single step and ensure this keeps updating the original `df`.\n",
            "\n",
            "See the caveats in the documentation: https://pandas.pydata.org/pandas-docs/stable/user_guide/indexing.html#returning-a-view-versus-a-copy\n",
            "\n",
            "  df['SOC_NAME1'] [df['SOC_NAME'].str.contains ('recruiters', 'human')] = 'hr'\n",
            "C:\\Users\\sushm\\AppData\\Local\\Temp\\ipykernel_25128\\2877348365.py:13: SettingWithCopyWarning: \n",
            "A value is trying to be set on a copy of a slice from a DataFrame\n",
            "\n",
            "See the caveats in the documentation: https://pandas.pydata.org/pandas-docs/stable/user_guide/indexing.html#returning-a-view-versus-a-copy\n",
            "  df['SOC_NAME1'] [df['SOC_NAME'].str.contains ('recruiters', 'human')] = 'hr'\n",
            "C:\\Users\\sushm\\AppData\\Local\\Temp\\ipykernel_25128\\2877348365.py:14: FutureWarning: ChainedAssignmentError: behaviour will change in pandas 3.0!\n",
            "You are setting values through chained assignment. Currently this works in certain cases, but when using Copy-on-Write (which will become the default behaviour in pandas 3.0) this will never work to update the original DataFrame or Series, because the intermediate object on which we are setting values will behave as a copy.\n",
            "A typical example is when you are setting values in a column of a DataFrame, like:\n",
            "\n",
            "df[\"col\"][row_indexer] = value\n",
            "\n",
            "Use `df.loc[row_indexer, \"col\"] = values` instead, to perform the assignment in a single step and ensure this keeps updating the original `df`.\n",
            "\n",
            "See the caveats in the documentation: https://pandas.pydata.org/pandas-docs/stable/user_guide/indexing.html#returning-a-view-versus-a-copy\n",
            "\n",
            "  df['SOC_NAME1'] [df['SOC_NAME'].str.contains('agricultural', 'farm')] = 'agri'\n",
            "C:\\Users\\sushm\\AppData\\Local\\Temp\\ipykernel_25128\\2877348365.py:14: SettingWithCopyWarning: \n",
            "A value is trying to be set on a copy of a slice from a DataFrame\n",
            "\n",
            "See the caveats in the documentation: https://pandas.pydata.org/pandas-docs/stable/user_guide/indexing.html#returning-a-view-versus-a-copy\n",
            "  df['SOC_NAME1'] [df['SOC_NAME'].str.contains('agricultural', 'farm')] = 'agri'\n",
            "C:\\Users\\sushm\\AppData\\Local\\Temp\\ipykernel_25128\\2877348365.py:15: FutureWarning: ChainedAssignmentError: behaviour will change in pandas 3.0!\n",
            "You are setting values through chained assignment. Currently this works in certain cases, but when using Copy-on-Write (which will become the default behaviour in pandas 3.0) this will never work to update the original DataFrame or Series, because the intermediate object on which we are setting values will behave as a copy.\n",
            "A typical example is when you are setting values in a column of a DataFrame, like:\n",
            "\n",
            "df[\"col\"][row_indexer] = value\n",
            "\n",
            "Use `df.loc[row_indexer, \"col\"] = values` instead, to perform the assignment in a single step and ensure this keeps updating the original `df`.\n",
            "\n",
            "See the caveats in the documentation: https://pandas.pydata.org/pandas-docs/stable/user_guide/indexing.html#returning-a-view-versus-a-copy\n",
            "\n",
            "  df['SOC_NAME1'][df['SOC_NAME'].str.contains('construction', 'architectural')] = 'estate'\n",
            "C:\\Users\\sushm\\AppData\\Local\\Temp\\ipykernel_25128\\2877348365.py:15: SettingWithCopyWarning: \n",
            "A value is trying to be set on a copy of a slice from a DataFrame\n",
            "\n",
            "See the caveats in the documentation: https://pandas.pydata.org/pandas-docs/stable/user_guide/indexing.html#returning-a-view-versus-a-copy\n",
            "  df['SOC_NAME1'][df['SOC_NAME'].str.contains('construction', 'architectural')] = 'estate'\n",
            "C:\\Users\\sushm\\AppData\\Local\\Temp\\ipykernel_25128\\2877348365.py:16: FutureWarning: ChainedAssignmentError: behaviour will change in pandas 3.0!\n",
            "You are setting values through chained assignment. Currently this works in certain cases, but when using Copy-on-Write (which will become the default behaviour in pandas 3.0) this will never work to update the original DataFrame or Series, because the intermediate object on which we are setting values will behave as a copy.\n",
            "A typical example is when you are setting values in a column of a DataFrame, like:\n",
            "\n",
            "df[\"col\"][row_indexer] = value\n",
            "\n",
            "Use `df.loc[row_indexer, \"col\"] = values` instead, to perform the assignment in a single step and ensure this keeps updating the original `df`.\n",
            "\n",
            "See the caveats in the documentation: https://pandas.pydata.org/pandas-docs/stable/user_guide/indexing.html#returning-a-view-versus-a-copy\n",
            "\n",
            "  df['SOC_NAME1'] [df['SOC_NAME'].str.contains('forencsic', 'health')] = 'medical'\n",
            "C:\\Users\\sushm\\AppData\\Local\\Temp\\ipykernel_25128\\2877348365.py:16: SettingWithCopyWarning: \n",
            "A value is trying to be set on a copy of a slice from a DataFrame\n",
            "\n",
            "See the caveats in the documentation: https://pandas.pydata.org/pandas-docs/stable/user_guide/indexing.html#returning-a-view-versus-a-copy\n",
            "  df['SOC_NAME1'] [df['SOC_NAME'].str.contains('forencsic', 'health')] = 'medical'\n",
            "C:\\Users\\sushm\\AppData\\Local\\Temp\\ipykernel_25128\\2877348365.py:17: FutureWarning: ChainedAssignmentError: behaviour will change in pandas 3.0!\n",
            "You are setting values through chained assignment. Currently this works in certain cases, but when using Copy-on-Write (which will become the default behaviour in pandas 3.0) this will never work to update the original DataFrame or Series, because the intermediate object on which we are setting values will behave as a copy.\n",
            "A typical example is when you are setting values in a column of a DataFrame, like:\n",
            "\n",
            "df[\"col\"][row_indexer] = value\n",
            "\n",
            "Use `df.loc[row_indexer, \"col\"] = values` instead, to perform the assignment in a single step and ensure this keeps updating the original `df`.\n",
            "\n",
            "See the caveats in the documentation: https://pandas.pydata.org/pandas-docs/stable/user_guide/indexing.html#returning-a-view-versus-a-copy\n",
            "\n",
            "  df['SOC_NAME1'][df['SOC_NAME'].str.contains('teachers')] = 'education'\n",
            "C:\\Users\\sushm\\AppData\\Local\\Temp\\ipykernel_25128\\2877348365.py:17: SettingWithCopyWarning: \n",
            "A value is trying to be set on a copy of a slice from a DataFrame\n",
            "\n",
            "See the caveats in the documentation: https://pandas.pydata.org/pandas-docs/stable/user_guide/indexing.html#returning-a-view-versus-a-copy\n",
            "  df['SOC_NAME1'][df['SOC_NAME'].str.contains('teachers')] = 'education'\n"
          ]
        }
      ],
      "source": [
        "import sys\n",
        "df['SOC_NAME1'] = 'others'\n",
        "df['SOC_NAME1'] [df['SOC_NAME'].str.contains('computer', 'software')] = 'it'\n",
        "df['SOC_NAME1'] [df['SOC_NAME'].str.contains('chief', 'management')] = 'manager'\n",
        "df['SOC_NAME1'] [df['SOC_NAME'].str.contains('mechanical')] = 'mechanical'\n",
        "df['SOC_NAME1'] [df['SOC_NAME'].str.contains('database')] = 'database'\n",
        "df['SOC_NAME1'][df['SOC_NAME'].str.contains('sales', 'market')] = 'scm'\n",
        "df['SOC_NAME1'] [df['SOC_NAME'].str.contains('financial')] = 'finance'\n",
        "df['SOC_NAME1'] [df['SOC_NAME'].str.contains('public', 'fundraising')] = 'pr'\n",
        "df['SOC_NAME1'] [df['SOC_NAME'].str.contains('education', 'law')] = 'administrative'\n",
        "df['SOC_NAME1'][df['SOC_NAME'].str.contains('auditors', 'compliance')] = 'audit'\n",
        "df['SOC_NAME1'] [df['SOC_NAME'].str.contains('distribution', 'logistics')] = 'scm'\n",
        "df['SOC_NAME1'] [df['SOC_NAME'].str.contains ('recruiters', 'human')] = 'hr'\n",
        "df['SOC_NAME1'] [df['SOC_NAME'].str.contains('agricultural', 'farm')] = 'agri'\n",
        "df['SOC_NAME1'][df['SOC_NAME'].str.contains('construction', 'architectural')] = 'estate'\n",
        "df['SOC_NAME1'] [df['SOC_NAME'].str.contains('forencsic', 'health')] = 'medical'\n",
        "df['SOC_NAME1'][df['SOC_NAME'].str.contains('teachers')] = 'education'"
      ]
    },
    {
      "cell_type": "code",
      "execution_count": 114,
      "metadata": {
        "id": "10DXX9CMPZv4"
      },
      "outputs": [],
      "source": [
        "df = df.drop(['Unnamed: 0', 'EMPLOYER_NAME', 'SOC_NAME', 'JOB_TITLE','WORKSITE', 'lon', 'lat'], axis = 1)"
      ]
    },
    {
      "cell_type": "code",
      "execution_count": 115,
      "metadata": {
        "id": "fOa6ZElQTjFH"
      },
      "outputs": [],
      "source": [
        "from sklearn import preprocessing\n",
        "le = preprocessing.LabelEncoder()\n",
        "le.fit(df.SOC_NAME1)\n",
        "#print list(le.classes_)\n",
        "df['SOC_N']=le.transform(df['SOC_NAME1'])"
      ]
    },
    {
      "cell_type": "code",
      "execution_count": 116,
      "metadata": {
        "id": "Xh2--HI429-p"
      },
      "outputs": [],
      "source": [
        "df = df.drop(['SOC_NAME1'], axis=1)"
      ]
    },
    {
      "cell_type": "code",
      "execution_count": 117,
      "metadata": {
        "colab": {
          "base_uri": "https://localhost:8080/",
          "height": 587
        },
        "id": "SGz-FYxq3KOV",
        "outputId": "4731d92a-f6c2-4919-aebb-dbe9df5a72ff"
      },
      "outputs": [
        {
          "data": {
            "image/png": "[encoded data removed]",
            "text/plain": [
              "<Figure size 640x480 with 2 Axes>"
            ]
          },
          "metadata": {},
          "output_type": "display_data"
        }
      ],
      "source": [
        "import seaborn as sns\n",
        "import matplotlib.pyplot as plt\n",
        "\n",
        "# Use a valid colormap name\n",
        "sns.heatmap(df.corr(), annot=True, cmap=\"RdYlGn\", annot_kws={\"size\":15})\n",
        "plt.show()"
      ]
    },
    {
      "cell_type": "code",
      "execution_count": 118,
      "metadata": {},
      "outputs": [],
      "source": [
        "df['CASE_STATUS'] = df['CASE_STATUS'].fillna(df['CASE_STATUS'].mode()[0])"
      ]
    },
    {
      "cell_type": "code",
      "execution_count": 119,
      "metadata": {
        "id": "jGylwFx23giY"
      },
      "outputs": [],
      "source": [
        "selcols=[\"FULL_TIME_POSITION\", \"PREVAILING_WAGE\", \"YEAR\", \"SOC_N\"]\n",
        "x=pd.DataFrame(df,columns=selcols)\n",
        "y=pd.DataFrame(df,columns=['CASE_STATUS'])"
      ]
    },
    {
      "cell_type": "code",
      "execution_count": 120,
      "metadata": {},
      "outputs": [
        {
          "data": {
            "text/plain": [
              "Index(['FULL_TIME_POSITION', 'PREVAILING_WAGE', 'YEAR', 'SOC_N'], dtype='object')"
            ]
          },
          "execution_count": 120,
          "metadata": {},
          "output_type": "execute_result"
        }
      ],
      "source": [
        "x.columns"
      ]
    },
    {
      "cell_type": "code",
      "execution_count": 121,
      "metadata": {},
      "outputs": [
        {
          "data": {
            "text/html": [
              "<div>\n",
              "<style scoped>\n",
              "    .dataframe tbody tr th:only-of-type {\n",
              "        vertical-align: middle;\n",
              "    }\n",
              "\n",
              "    .dataframe tbody tr th {\n",
              "        vertical-align: top;\n",
              "    }\n",
              "\n",
              "    .dataframe thead th {\n",
              "        text-align: right;\n",
              "    }\n",
              "</style>\n",
              "<table border=\"1\" class=\"dataframe\">\n",
              "  <thead>\n",
              "    <tr style=\"text-align: right;\">\n",
              "      <th></th>\n",
              "      <th>FULL_TIME_POSITION</th>\n",
              "      <th>PREVAILING_WAGE</th>\n",
              "      <th>YEAR</th>\n",
              "      <th>SOC_N</th>\n",
              "    </tr>\n",
              "  </thead>\n",
              "  <tbody>\n",
              "    <tr>\n",
              "      <th>0</th>\n",
              "      <td>0</td>\n",
              "      <td>36067.0</td>\n",
              "      <td>2016.0</td>\n",
              "      <td>2</td>\n",
              "    </tr>\n",
              "    <tr>\n",
              "      <th>1</th>\n",
              "      <td>1</td>\n",
              "      <td>242674.0</td>\n",
              "      <td>2016.0</td>\n",
              "      <td>2</td>\n",
              "    </tr>\n",
              "    <tr>\n",
              "      <th>2</th>\n",
              "      <td>1</td>\n",
              "      <td>193066.0</td>\n",
              "      <td>2016.0</td>\n",
              "      <td>2</td>\n",
              "    </tr>\n",
              "    <tr>\n",
              "      <th>3</th>\n",
              "      <td>1</td>\n",
              "      <td>220314.0</td>\n",
              "      <td>2016.0</td>\n",
              "      <td>2</td>\n",
              "    </tr>\n",
              "    <tr>\n",
              "      <th>4</th>\n",
              "      <td>1</td>\n",
              "      <td>157518.4</td>\n",
              "      <td>2016.0</td>\n",
              "      <td>2</td>\n",
              "    </tr>\n",
              "    <tr>\n",
              "      <th>5</th>\n",
              "      <td>1</td>\n",
              "      <td>225000.0</td>\n",
              "      <td>2016.0</td>\n",
              "      <td>2</td>\n",
              "    </tr>\n",
              "    <tr>\n",
              "      <th>6</th>\n",
              "      <td>1</td>\n",
              "      <td>91021.0</td>\n",
              "      <td>2016.0</td>\n",
              "      <td>2</td>\n",
              "    </tr>\n",
              "    <tr>\n",
              "      <th>7</th>\n",
              "      <td>1</td>\n",
              "      <td>150000.0</td>\n",
              "      <td>2016.0</td>\n",
              "      <td>2</td>\n",
              "    </tr>\n",
              "    <tr>\n",
              "      <th>8</th>\n",
              "      <td>1</td>\n",
              "      <td>127546.0</td>\n",
              "      <td>2016.0</td>\n",
              "      <td>2</td>\n",
              "    </tr>\n",
              "    <tr>\n",
              "      <th>9</th>\n",
              "      <td>1</td>\n",
              "      <td>154648.0</td>\n",
              "      <td>2016.0</td>\n",
              "      <td>2</td>\n",
              "    </tr>\n",
              "  </tbody>\n",
              "</table>\n",
              "</div>"
            ],
            "text/plain": [
              "   FULL_TIME_POSITION  PREVAILING_WAGE    YEAR  SOC_N\n",
              "0                   0          36067.0  2016.0      2\n",
              "1                   1         242674.0  2016.0      2\n",
              "2                   1         193066.0  2016.0      2\n",
              "3                   1         220314.0  2016.0      2\n",
              "4                   1         157518.4  2016.0      2\n",
              "5                   1         225000.0  2016.0      2\n",
              "6                   1          91021.0  2016.0      2\n",
              "7                   1         150000.0  2016.0      2\n",
              "8                   1         127546.0  2016.0      2\n",
              "9                   1         154648.0  2016.0      2"
            ]
          },
          "execution_count": 121,
          "metadata": {},
          "output_type": "execute_result"
        }
      ],
      "source": [
        "x.head(10)\n"
      ]
    },
    {
      "cell_type": "code",
      "execution_count": 122,
      "metadata": {},
      "outputs": [
        {
          "name": "stdout",
          "output_type": "stream",
          "text": [
            "[2 1 0]\n"
          ]
        }
      ],
      "source": [
        "uni=x['SOC_N'].unique()\n",
        "print(uni)"
      ]
    },
    {
      "cell_type": "code",
      "execution_count": 123,
      "metadata": {
        "id": "ZCvPxTwh3ubQ"
      },
      "outputs": [],
      "source": [
        "from sklearn.model_selection import train_test_split\n",
        "x_train, x_test, y_train, y_test = train_test_split(x, y, test_size = 0.3, random_state = 42)"
      ]
    },
    {
      "cell_type": "code",
      "execution_count": 124,
      "metadata": {
        "colab": {
          "base_uri": "https://localhost:8080/",
          "height": 129
        },
        "id": "peR-oOUi349b",
        "outputId": "bc951765-1fa6-40d1-99b3-6860e3f1fd24"
      },
      "outputs": [
        {
          "data": {
            "text/html": [
              "<style>#sk-container-id-2 {\n",
              "  /* Definition of color scheme common for light and dark mode */\n",
              "  --sklearn-color-text: black;\n",
              "  --sklearn-color-line: gray;\n",
              "  /* Definition of color scheme for unfitted estimators */\n",
              "  --sklearn-color-unfitted-level-0: #fff5e6;\n",
              "  --sklearn-color-unfitted-level-1: #f6e4d2;\n",
              "  --sklearn-color-unfitted-level-2: #ffe0b3;\n",
              "  --sklearn-color-unfitted-level-3: chocolate;\n",
              "  /* Definition of color scheme for fitted estimators */\n",
              "  --sklearn-color-fitted-level-0: #f0f8ff;\n",
              "  --sklearn-color-fitted-level-1: #d4ebff;\n",
              "  --sklearn-color-fitted-level-2: #b3dbfd;\n",
              "  --sklearn-color-fitted-level-3: cornflowerblue;\n",
              "\n",
              "  /* Specific color for light theme */\n",
              "  --sklearn-color-text-on-default-background: var(--sg-text-color, var(--theme-code-foreground, var(--jp-content-font-color1, black)));\n",
              "  --sklearn-color-background: var(--sg-background-color, var(--theme-background, var(--jp-layout-color0, white)));\n",
              "  --sklearn-color-border-box: var(--sg-text-color, var(--theme-code-foreground, var(--jp-content-font-color1, black)));\n",
              "  --sklearn-color-icon: #696969;\n",
              "\n",
              "  @media (prefers-color-scheme: dark) {\n",
              "    /* Redefinition of color scheme for dark theme */\n",
              "    --sklearn-color-text-on-default-background: var(--sg-text-color, var(--theme-code-foreground, var(--jp-content-font-color1, white)));\n",
              "    --sklearn-color-background: var(--sg-background-color, var(--theme-background, var(--jp-layout-color0, #111)));\n",
              "    --sklearn-color-border-box: var(--sg-text-color, var(--theme-code-foreground, var(--jp-content-font-color1, white)));\n",
              "    --sklearn-color-icon: #878787;\n",
              "  }\n",
              "}\n",
              "\n",
              "#sk-container-id-2 {\n",
              "  color: var(--sklearn-color-text);\n",
              "}\n",
              "\n",
              "#sk-container-id-2 pre {\n",
              "  padding: 0;\n",
              "}\n",
              "\n",
              "#sk-container-id-2 input.sk-hidden--visually {\n",
              "  border: 0;\n",
              "  clip: rect(1px 1px 1px 1px);\n",
              "  clip: rect(1px, 1px, 1px, 1px);\n",
              "  height: 1px;\n",
              "  margin: -1px;\n",
              "  overflow: hidden;\n",
              "  padding: 0;\n",
              "  position: absolute;\n",
              "  width: 1px;\n",
              "}\n",
              "\n",
              "#sk-container-id-2 div.sk-dashed-wrapped {\n",
              "  border: 1px dashed var(--sklearn-color-line);\n",
              "  margin: 0 0.4em 0.5em 0.4em;\n",
              "  box-sizing: border-box;\n",
              "  padding-bottom: 0.4em;\n",
              "  background-color: var(--sklearn-color-background);\n",
              "}\n",
              "\n",
              "#sk-container-id-2 div.sk-container {\n",
              "  /* jupyter's `normalize.less` sets `[hidden] { display: none; }`\n",
              "     but bootstrap.min.css set `[hidden] { display: none !important; }`\n",
              "     so we also need the `!important` here to be able to override the\n",
              "     default hidden behavior on the sphinx rendered scikit-learn.org.\n",
              "     See: https://github.com/scikit-learn/scikit-learn/issues/21755 */\n",
              "  display: inline-block !important;\n",
              "  position: relative;\n",
              "}\n",
              "\n",
              "#sk-container-id-2 div.sk-text-repr-fallback {\n",
              "  display: none;\n",
              "}\n",
              "\n",
              "div.sk-parallel-item,\n",
              "div.sk-serial,\n",
              "div.sk-item {\n",
              "  /* draw centered vertical line to link estimators */\n",
              "  background-image: linear-gradient(var(--sklearn-color-text-on-default-background), var(--sklearn-color-text-on-default-background));\n",
              "  background-size: 2px 100%;\n",
              "  background-repeat: no-repeat;\n",
              "  background-position: center center;\n",
              "}\n",
              "\n",
              "/* Parallel-specific style estimator block */\n",
              "\n",
              "#sk-container-id-2 div.sk-parallel-item::after {\n",
              "  content: \"\";\n",
              "  width: 100%;\n",
              "  border-bottom: 2px solid var(--sklearn-color-text-on-default-background);\n",
              "  flex-grow: 1;\n",
              "}\n",
              "\n",
              "#sk-container-id-2 div.sk-parallel {\n",
              "  display: flex;\n",
              "  align-items: stretch;\n",
              "  justify-content: center;\n",
              "  background-color: var(--sklearn-color-background);\n",
              "  position: relative;\n",
              "}\n",
              "\n",
              "#sk-container-id-2 div.sk-parallel-item {\n",
              "  display: flex;\n",
              "  flex-direction: column;\n",
              "}\n",
              "\n",
              "#sk-container-id-2 div.sk-parallel-item:first-child::after {\n",
              "  align-self: flex-end;\n",
              "  width: 50%;\n",
              "}\n",
              "\n",
              "#sk-container-id-2 div.sk-parallel-item:last-child::after {\n",
              "  align-self: flex-start;\n",
              "  width: 50%;\n",
              "}\n",
              "\n",
              "#sk-container-id-2 div.sk-parallel-item:only-child::after {\n",
              "  width: 0;\n",
              "}\n",
              "\n",
              "/* Serial-specific style estimator block */\n",
              "\n",
              "#sk-container-id-2 div.sk-serial {\n",
              "  display: flex;\n",
              "  flex-direction: column;\n",
              "  align-items: center;\n",
              "  background-color: var(--sklearn-color-background);\n",
              "  padding-right: 1em;\n",
              "  padding-left: 1em;\n",
              "}\n",
              "\n",
              "\n",
              "/* Toggleable style: style used for estimator/Pipeline/ColumnTransformer box that is\n",
              "clickable and can be expanded/collapsed.\n",
              "- Pipeline and ColumnTransformer use this feature and define the default style\n",
              "- Estimators will overwrite some part of the style using the `sk-estimator` class\n",
              "*/\n",
              "\n",
              "/* Pipeline and ColumnTransformer style (default) */\n",
              "\n",
              "#sk-container-id-2 div.sk-toggleable {\n",
              "  /* Default theme specific background. It is overwritten whether we have a\n",
              "  specific estimator or a Pipeline/ColumnTransformer */\n",
              "  background-color: var(--sklearn-color-background);\n",
              "}\n",
              "\n",
              "/* Toggleable label */\n",
              "#sk-container-id-2 label.sk-toggleable__label {\n",
              "  cursor: pointer;\n",
              "  display: block;\n",
              "  width: 100%;\n",
              "  margin-bottom: 0;\n",
              "  padding: 0.5em;\n",
              "  box-sizing: border-box;\n",
              "  text-align: center;\n",
              "}\n",
              "\n",
              "#sk-container-id-2 label.sk-toggleable__label-arrow:before {\n",
              "  /* Arrow on the left of the label */\n",
              "  content: \"▸\";\n",
              "  float: left;\n",
              "  margin-right: 0.25em;\n",
              "  color: var(--sklearn-color-icon);\n",
              "}\n",
              "\n",
              "#sk-container-id-2 label.sk-toggleable__label-arrow:hover:before {\n",
              "  color: var(--sklearn-color-text);\n",
              "}\n",
              "\n",
              "/* Toggleable content - dropdown */\n",
              "\n",
              "#sk-container-id-2 div.sk-toggleable__content {\n",
              "  max-height: 0;\n",
              "  max-width: 0;\n",
              "  overflow: hidden;\n",
              "  text-align: left;\n",
              "  /* unfitted */\n",
              "  background-color: var(--sklearn-color-unfitted-level-0);\n",
              "}\n",
              "\n",
              "#sk-container-id-2 div.sk-toggleable__content.fitted {\n",
              "  /* fitted */\n",
              "  background-color: var(--sklearn-color-fitted-level-0);\n",
              "}\n",
              "\n",
              "#sk-container-id-2 div.sk-toggleable__content pre {\n",
              "  margin: 0.2em;\n",
              "  border-radius: 0.25em;\n",
              "  color: var(--sklearn-color-text);\n",
              "  /* unfitted */\n",
              "  background-color: var(--sklearn-color-unfitted-level-0);\n",
              "}\n",
              "\n",
              "#sk-container-id-2 div.sk-toggleable__content.fitted pre {\n",
              "  /* unfitted */\n",
              "  background-color: var(--sklearn-color-fitted-level-0);\n",
              "}\n",
              "\n",
              "#sk-container-id-2 input.sk-toggleable__control:checked~div.sk-toggleable__content {\n",
              "  /* Expand drop-down */\n",
              "  max-height: 200px;\n",
              "  max-width: 100%;\n",
              "  overflow: auto;\n",
              "}\n",
              "\n",
              "#sk-container-id-2 input.sk-toggleable__control:checked~label.sk-toggleable__label-arrow:before {\n",
              "  content: \"▾\";\n",
              "}\n",
              "\n",
              "/* Pipeline/ColumnTransformer-specific style */\n",
              "\n",
              "#sk-container-id-2 div.sk-label input.sk-toggleable__control:checked~label.sk-toggleable__label {\n",
              "  color: var(--sklearn-color-text);\n",
              "  background-color: var(--sklearn-color-unfitted-level-2);\n",
              "}\n",
              "\n",
              "#sk-container-id-2 div.sk-label.fitted input.sk-toggleable__control:checked~label.sk-toggleable__label {\n",
              "  background-color: var(--sklearn-color-fitted-level-2);\n",
              "}\n",
              "\n",
              "/* Estimator-specific style */\n",
              "\n",
              "/* Colorize estimator box */\n",
              "#sk-container-id-2 div.sk-estimator input.sk-toggleable__control:checked~label.sk-toggleable__label {\n",
              "  /* unfitted */\n",
              "  background-color: var(--sklearn-color-unfitted-level-2);\n",
              "}\n",
              "\n",
              "#sk-container-id-2 div.sk-estimator.fitted input.sk-toggleable__control:checked~label.sk-toggleable__label {\n",
              "  /* fitted */\n",
              "  background-color: var(--sklearn-color-fitted-level-2);\n",
              "}\n",
              "\n",
              "#sk-container-id-2 div.sk-label label.sk-toggleable__label,\n",
              "#sk-container-id-2 div.sk-label label {\n",
              "  /* The background is the default theme color */\n",
              "  color: var(--sklearn-color-text-on-default-background);\n",
              "}\n",
              "\n",
              "/* On hover, darken the color of the background */\n",
              "#sk-container-id-2 div.sk-label:hover label.sk-toggleable__label {\n",
              "  color: var(--sklearn-color-text);\n",
              "  background-color: var(--sklearn-color-unfitted-level-2);\n",
              "}\n",
              "\n",
              "/* Label box, darken color on hover, fitted */\n",
              "#sk-container-id-2 div.sk-label.fitted:hover label.sk-toggleable__label.fitted {\n",
              "  color: var(--sklearn-color-text);\n",
              "  background-color: var(--sklearn-color-fitted-level-2);\n",
              "}\n",
              "\n",
              "/* Estimator label */\n",
              "\n",
              "#sk-container-id-2 div.sk-label label {\n",
              "  font-family: monospace;\n",
              "  font-weight: bold;\n",
              "  display: inline-block;\n",
              "  line-height: 1.2em;\n",
              "}\n",
              "\n",
              "#sk-container-id-2 div.sk-label-container {\n",
              "  text-align: center;\n",
              "}\n",
              "\n",
              "/* Estimator-specific */\n",
              "#sk-container-id-2 div.sk-estimator {\n",
              "  font-family: monospace;\n",
              "  border: 1px dotted var(--sklearn-color-border-box);\n",
              "  border-radius: 0.25em;\n",
              "  box-sizing: border-box;\n",
              "  margin-bottom: 0.5em;\n",
              "  /* unfitted */\n",
              "  background-color: var(--sklearn-color-unfitted-level-0);\n",
              "}\n",
              "\n",
              "#sk-container-id-2 div.sk-estimator.fitted {\n",
              "  /* fitted */\n",
              "  background-color: var(--sklearn-color-fitted-level-0);\n",
              "}\n",
              "\n",
              "/* on hover */\n",
              "#sk-container-id-2 div.sk-estimator:hover {\n",
              "  /* unfitted */\n",
              "  background-color: var(--sklearn-color-unfitted-level-2);\n",
              "}\n",
              "\n",
              "#sk-container-id-2 div.sk-estimator.fitted:hover {\n",
              "  /* fitted */\n",
              "  background-color: var(--sklearn-color-fitted-level-2);\n",
              "}\n",
              "\n",
              "/* Specification for estimator info (e.g. \"i\" and \"?\") */\n",
              "\n",
              "/* Common style for \"i\" and \"?\" */\n",
              "\n",
              ".sk-estimator-doc-link,\n",
              "a:link.sk-estimator-doc-link,\n",
              "a:visited.sk-estimator-doc-link {\n",
              "  float: right;\n",
              "  font-size: smaller;\n",
              "  line-height: 1em;\n",
              "  font-family: monospace;\n",
              "  background-color: var(--sklearn-color-background);\n",
              "  border-radius: 1em;\n",
              "  height: 1em;\n",
              "  width: 1em;\n",
              "  text-decoration: none !important;\n",
              "  margin-left: 1ex;\n",
              "  /* unfitted */\n",
              "  border: var(--sklearn-color-unfitted-level-1) 1pt solid;\n",
              "  color: var(--sklearn-color-unfitted-level-1);\n",
              "}\n",
              "\n",
              ".sk-estimator-doc-link.fitted,\n",
              "a:link.sk-estimator-doc-link.fitted,\n",
              "a:visited.sk-estimator-doc-link.fitted {\n",
              "  /* fitted */\n",
              "  border: var(--sklearn-color-fitted-level-1) 1pt solid;\n",
              "  color: var(--sklearn-color-fitted-level-1);\n",
              "}\n",
              "\n",
              "/* On hover */\n",
              "div.sk-estimator:hover .sk-estimator-doc-link:hover,\n",
              ".sk-estimator-doc-link:hover,\n",
              "div.sk-label-container:hover .sk-estimator-doc-link:hover,\n",
              ".sk-estimator-doc-link:hover {\n",
              "  /* unfitted */\n",
              "  background-color: var(--sklearn-color-unfitted-level-3);\n",
              "  color: var(--sklearn-color-background);\n",
              "  text-decoration: none;\n",
              "}\n",
              "\n",
              "div.sk-estimator.fitted:hover .sk-estimator-doc-link.fitted:hover,\n",
              ".sk-estimator-doc-link.fitted:hover,\n",
              "div.sk-label-container:hover .sk-estimator-doc-link.fitted:hover,\n",
              ".sk-estimator-doc-link.fitted:hover {\n",
              "  /* fitted */\n",
              "  background-color: var(--sklearn-color-fitted-level-3);\n",
              "  color: var(--sklearn-color-background);\n",
              "  text-decoration: none;\n",
              "}\n",
              "\n",
              "/* Span, style for the box shown on hovering the info icon */\n",
              ".sk-estimator-doc-link span {\n",
              "  display: none;\n",
              "  z-index: 9999;\n",
              "  position: relative;\n",
              "  font-weight: normal;\n",
              "  right: .2ex;\n",
              "  padding: .5ex;\n",
              "  margin: .5ex;\n",
              "  width: min-content;\n",
              "  min-width: 20ex;\n",
              "  max-width: 50ex;\n",
              "  color: var(--sklearn-color-text);\n",
              "  box-shadow: 2pt 2pt 4pt #999;\n",
              "  /* unfitted */\n",
              "  background: var(--sklearn-color-unfitted-level-0);\n",
              "  border: .5pt solid var(--sklearn-color-unfitted-level-3);\n",
              "}\n",
              "\n",
              ".sk-estimator-doc-link.fitted span {\n",
              "  /* fitted */\n",
              "  background: var(--sklearn-color-fitted-level-0);\n",
              "  border: var(--sklearn-color-fitted-level-3);\n",
              "}\n",
              "\n",
              ".sk-estimator-doc-link:hover span {\n",
              "  display: block;\n",
              "}\n",
              "\n",
              "/* \"?\"-specific style due to the `<a>` HTML tag */\n",
              "\n",
              "#sk-container-id-2 a.estimator_doc_link {\n",
              "  float: right;\n",
              "  font-size: 1rem;\n",
              "  line-height: 1em;\n",
              "  font-family: monospace;\n",
              "  background-color: var(--sklearn-color-background);\n",
              "  border-radius: 1rem;\n",
              "  height: 1rem;\n",
              "  width: 1rem;\n",
              "  text-decoration: none;\n",
              "  /* unfitted */\n",
              "  color: var(--sklearn-color-unfitted-level-1);\n",
              "  border: var(--sklearn-color-unfitted-level-1) 1pt solid;\n",
              "}\n",
              "\n",
              "#sk-container-id-2 a.estimator_doc_link.fitted {\n",
              "  /* fitted */\n",
              "  border: var(--sklearn-color-fitted-level-1) 1pt solid;\n",
              "  color: var(--sklearn-color-fitted-level-1);\n",
              "}\n",
              "\n",
              "/* On hover */\n",
              "#sk-container-id-2 a.estimator_doc_link:hover {\n",
              "  /* unfitted */\n",
              "  background-color: var(--sklearn-color-unfitted-level-3);\n",
              "  color: var(--sklearn-color-background);\n",
              "  text-decoration: none;\n",
              "}\n",
              "\n",
              "#sk-container-id-2 a.estimator_doc_link.fitted:hover {\n",
              "  /* fitted */\n",
              "  background-color: var(--sklearn-color-fitted-level-3);\n",
              "}\n",
              "</style><div id=\"sk-container-id-2\" class=\"sk-top-container\"><div class=\"sk-text-repr-fallback\"><pre>DecisionTreeClassifier()</pre><b>In a Jupyter environment, please rerun this cell to show the HTML representation or trust the notebook. <br />On GitHub, the HTML representation is unable to render, please try loading this page with nbviewer.org.</b></div><div class=\"sk-container\" hidden><div class=\"sk-item\"><div class=\"sk-estimator fitted sk-toggleable\"><input class=\"sk-toggleable__control sk-hidden--visually\" id=\"sk-estimator-id-2\" type=\"checkbox\" checked><label for=\"sk-estimator-id-2\" class=\"sk-toggleable__label fitted sk-toggleable__label-arrow fitted\">&nbsp;&nbsp;DecisionTreeClassifier<a class=\"sk-estimator-doc-link fitted\" rel=\"noreferrer\" target=\"_blank\" href=\"https://scikit-learn.org/1.5/modules/generated/sklearn.tree.DecisionTreeClassifier.html\">?<span>Documentation for DecisionTreeClassifier</span></a><span class=\"sk-estimator-doc-link fitted\">i<span>Fitted</span></span></label><div class=\"sk-toggleable__content fitted\"><pre>DecisionTreeClassifier()</pre></div> </div></div></div></div>"
            ],
            "text/plain": [
              "DecisionTreeClassifier()"
            ]
          },
          "execution_count": 124,
          "metadata": {},
          "output_type": "execute_result"
        }
      ],
      "source": [
        "#from sklearn.ensemble import RandomForestClassifier\n",
        "from sklearn.tree import DecisionTreeClassifier\n",
        "rf = DecisionTreeClassifier()\n",
        "rf.fit(x_train, y_train)"
      ]
    },
    {
      "cell_type": "code",
      "execution_count": 125,
      "metadata": {
        "colab": {
          "base_uri": "https://localhost:8080/"
        },
        "id": "WgoEaBbo4Dbb",
        "outputId": "8d9e3e50-7f55-4afa-8616-cbdfcaa4a810"
      },
      "outputs": [
        {
          "name": "stdout",
          "output_type": "stream",
          "text": [
            "[0. 0. 0. ... 0. 0. 0.]\n"
          ]
        }
      ],
      "source": [
        "y_pred_rf =rf.predict(x_test)\n",
        "print(y_pred_rf)"
      ]
    },
    {
      "cell_type": "code",
      "execution_count": 126,
      "metadata": {
        "colab": {
          "base_uri": "https://localhost:8080/"
        },
        "id": "pLzNKfc_4RBI",
        "outputId": "75a065f1-cd5d-4516-fb01-2e52b19982a7"
      },
      "outputs": [
        {
          "name": "stderr",
          "output_type": "stream",
          "text": [
            "c:\\Users\\sushm\\AppData\\Local\\Programs\\Python\\Python312\\Lib\\site-packages\\sklearn\\metrics\\_classification.py:1531: UndefinedMetricWarning: Precision is ill-defined and being set to 0.0 in labels with no predicted samples. Use `zero_division` parameter to control this behavior.\n",
            "  _warn_prf(average, modifier, f\"{metric.capitalize()} is\", len(result))\n",
            "c:\\Users\\sushm\\AppData\\Local\\Programs\\Python\\Python312\\Lib\\site-packages\\sklearn\\metrics\\_classification.py:1531: UndefinedMetricWarning: Precision is ill-defined and being set to 0.0 in labels with no predicted samples. Use `zero_division` parameter to control this behavior.\n",
            "  _warn_prf(average, modifier, f\"{metric.capitalize()} is\", len(result))\n"
          ]
        },
        {
          "name": "stdout",
          "output_type": "stream",
          "text": [
            "              precision    recall  f1-score   support\n",
            "\n",
            "         0.0       0.88      0.99      0.93    784464\n",
            "         1.0       0.49      0.09      0.15     60711\n",
            "         2.0       0.25      0.03      0.06     27545\n",
            "         3.0       0.16      0.01      0.01     27253\n",
            "         6.0       0.00      0.00      0.00         1\n",
            "\n",
            "    accuracy                           0.87    899974\n",
            "   macro avg       0.35      0.22      0.23    899974\n",
            "weighted avg       0.81      0.87      0.82    899974\n",
            "\n"
          ]
        },
        {
          "name": "stderr",
          "output_type": "stream",
          "text": [
            "c:\\Users\\sushm\\AppData\\Local\\Programs\\Python\\Python312\\Lib\\site-packages\\sklearn\\metrics\\_classification.py:1531: UndefinedMetricWarning: Precision is ill-defined and being set to 0.0 in labels with no predicted samples. Use `zero_division` parameter to control this behavior.\n",
            "  _warn_prf(average, modifier, f\"{metric.capitalize()} is\", len(result))\n"
          ]
        }
      ],
      "source": [
        "from sklearn.metrics import classification_report\n",
        "print(classification_report(y_test, y_pred_rf))"
      ]
    },
    {
      "cell_type": "code",
      "execution_count": 127,
      "metadata": {
        "colab": {
          "base_uri": "https://localhost:8080/"
        },
        "id": "CTCXGFTj4xcF",
        "outputId": "98d254b9-76ee-46e3-df10-0dd4f4116521"
      },
      "outputs": [
        {
          "data": {
            "text/plain": [
              "Counter({np.float64(0.0): 883608,\n",
              "         np.float64(1.0): 11260,\n",
              "         np.float64(2.0): 3791,\n",
              "         np.float64(3.0): 1315})"
            ]
          },
          "execution_count": 127,
          "metadata": {},
          "output_type": "execute_result"
        }
      ],
      "source": [
        "c(y_pred_rf)"
      ]
    },
    {
      "cell_type": "code",
      "execution_count": 128,
      "metadata": {
        "colab": {
          "base_uri": "https://localhost:8080/"
        },
        "id": "IHxDaZ8R5GV_",
        "outputId": "92df2c28-f068-431e-936c-0bea1d45b459"
      },
      "outputs": [
        {
          "data": {
            "text/plain": [
              "0.8698217948518513"
            ]
          },
          "execution_count": 128,
          "metadata": {},
          "output_type": "execute_result"
        }
      ],
      "source": [
        "accuracy = accuracy_score(y_test,y_pred_rf)\n",
        "accuracy"
      ]
    },
    {
      "cell_type": "code",
      "execution_count": 129,
      "metadata": {
        "id": "xTGLOMkN6Bbc"
      },
      "outputs": [],
      "source": [
        "import pickle\n",
        "pickle.dump(rf,open('Visarf.pkl','wb'))"
      ]
    }
  ],
  "metadata": {
    "colab": {
      "provenance": []
    },
    "kernelspec": {
      "display_name": "Python 3",
      "name": "python3"
    },
    "language_info": {
      "codemirror_mode": {
        "name": "ipython",
        "version": 3
      },
      "file_extension": ".py",
      "mimetype": "text/x-python",
      "name": "python",
      "nbconvert_exporter": "python",
      "pygments_lexer": "ipython3",
      "version": "3.12.4"
    }
  },
  "nbformat": 4,
  "nbformat_minor": 0
}
